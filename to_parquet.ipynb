{
 "cells": [
  {
   "cell_type": "code",
   "execution_count": 2,
   "metadata": {},
   "outputs": [],
   "source": [
    "from tqdm import tqdm\n",
    "import re\n",
    "import pandas as pd"
   ]
  },
  {
   "cell_type": "code",
   "execution_count": 3,
   "metadata": {},
   "outputs": [],
   "source": [
    "columns = ['client', 'userid', 'datetime', 'method', 'request', 'status', 'size', 'referer', 'user_agent']"
   ]
  },
  {
   "cell_type": "code",
   "execution_count": 7,
   "metadata": {},
   "outputs": [
    {
     "name": "stderr",
     "output_type": "stream",
     "text": [
      "10365152it [02:36, 66119.99it/s] \n"
     ]
    }
   ],
   "source": [
    "with open('./access.log') as source:\n",
    "    line_num = 0\n",
    "    arr = []\n",
    "    \n",
    "    for line in tqdm(source):\n",
    "        new_line = None\n",
    "        combined_regex = '^(?P<client>\\S+) \\S+ (?P<userid>\\S+) \\[(?P<datetime>[^\\]]+)\\] \"(?P<method>[A-Z]+) (?P<request>[^ \"]+)? HTTP/[0-9.]+\" (?P<status>[0-9]{3}) (?P<size>[0-9]+|-) \"(?P<referrer>[^\"]*)\" \"(?P<useragent>[^\"]*)'\n",
    "        try:\n",
    "            new_line = re.findall(combined_regex, line)[0]\n",
    "            arr.append(new_line)\n",
    "        except Exception as e:\n",
    "            with open('errors_file.log', 'a') as errfile:\n",
    "                print((type(line), str(e)), file=errfile)\n",
    "\n",
    "        line_num += 1\n",
    "        if line_num % 250_000 == 0:\n",
    "            df = pd.DataFrame(arr, columns=columns)\n",
    "            df.to_parquet(f'./data/{line_num}.parquet')\n",
    "            arr.clear()\n",
    "\n",
    "    df = pd.DataFrame(arr, columns=columns)\n",
    "    df.to_parquet(f'./data/{line_num}.parquet')\n",
    "    arr.clear()    "
   ]
  },
  {
   "cell_type": "code",
   "execution_count": null,
   "metadata": {},
   "outputs": [],
   "source": []
  }
 ],
 "metadata": {
  "kernelspec": {
   "display_name": "usual",
   "language": "python",
   "name": "python3"
  },
  "language_info": {
   "codemirror_mode": {
    "name": "ipython",
    "version": 3
   },
   "file_extension": ".py",
   "mimetype": "text/x-python",
   "name": "python",
   "nbconvert_exporter": "python",
   "pygments_lexer": "ipython3",
   "version": "3.7.12"
  },
  "orig_nbformat": 4
 },
 "nbformat": 4,
 "nbformat_minor": 2
}
